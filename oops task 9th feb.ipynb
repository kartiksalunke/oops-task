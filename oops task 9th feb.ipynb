{
 "cells": [
  {
   "cell_type": "markdown",
   "id": "2158e368-eccd-4a41-bc58-e4ea7e82d63d",
   "metadata": {},
   "source": [
    "Q.1"
   ]
  },
  {
   "cell_type": "code",
   "execution_count": 4,
   "id": "5365752d-c65f-4327-9bf0-605f57e471fd",
   "metadata": {},
   "outputs": [
    {
     "name": "stdout",
     "output_type": "stream",
     "text": [
      "Car\n",
      "200\n",
      "20\n"
     ]
    }
   ],
   "source": [
    "class Vehicle:\n",
    "    def __init__(self, name_of_vehicle, max_speed, average_of_vehicle):\n",
    "        self.name_of_vehicle = name_of_vehicle\n",
    "        self.max_speed = max_speed\n",
    "        self.average_of_vehicle = average_of_vehicle\n",
    "        \n",
    "car = Vehicle(\"Car\", 200, 20)\n",
    "print(car.name_of_vehicle)  # \"Car\"\n",
    "print(car.max_speed)  # 200\n",
    "print(car.average_of_vehicle)  # 20"
   ]
  },
  {
   "cell_type": "markdown",
   "id": "ff5eab10-b67b-4b9f-b172-e41cc46e4b97",
   "metadata": {},
   "source": [
    "Q.2"
   ]
  },
  {
   "cell_type": "code",
   "execution_count": 5,
   "id": "f3f93a3c-aa08-462a-a582-99d3c93a3f59",
   "metadata": {},
   "outputs": [
    {
     "name": "stdout",
     "output_type": "stream",
     "text": [
      "themy_carhas a seating capacity of 5\n"
     ]
    }
   ],
   "source": [
    "class car(vehicle):\n",
    "    def seating_capacity(self, capacity):\n",
    "        return f\"the{self.name_of_vehicle}has a seating capacity of {capacity}\"\n",
    "my_car = car(\"my_car\", 150 , 15)\n",
    "print(my_car.seating_capacity(5)) # \"the my car has a seating capacity of 5\""
   ]
  },
  {
   "cell_type": "markdown",
   "id": "27d9864a-de38-4342-b716-0e92f4e0be64",
   "metadata": {},
   "source": [
    "Q.3"
   ]
  },
  {
   "cell_type": "markdown",
   "id": "97c454d6-fd81-4556-94ba-de75d5f5de55",
   "metadata": {},
   "source": [
    "Ans>    Multiple inheritance is a feature of object-oriented programming that allows a class to inherit \n",
    "        attributes and behaviors from multiple parent classes. This allows for greater flexibility and \n",
    "        code reuse, as a single class can inherit the characteristics of multiple existi"
   ]
  },
  {
   "cell_type": "code",
   "execution_count": 7,
   "id": "e6f3a1f7-711d-461f-9ad7-b9cabfcf7c48",
   "metadata": {},
   "outputs": [
    {
     "name": "stdout",
     "output_type": "stream",
     "text": [
      "engine started\n",
      "fuel tank filled with 50 liters\n",
      "car is driving\n"
     ]
    }
   ],
   "source": [
    "class engine:\n",
    "    def start(self):\n",
    "        return \"engine started\"\n",
    "    \n",
    "class fuelsystem:\n",
    "    def fill_fuel(self , fuel_amount):\n",
    "        return f\"fuel tank filled with {fuel_amount} liters\"\n",
    "    \n",
    "class car(engine , fuelsystem):\n",
    "    def drive(self):\n",
    "        return \"car is driving\"\n",
    "    \n",
    "my_car = car()\n",
    "print(my_car.start())  # \"engine started\"\n",
    "print(my_car.fill_fuel(50))  #\"fuel tank filled with 50 liters\"\n",
    "print(my_car.drive())  # \"car is driving\"\n",
    "    "
   ]
  },
  {
   "cell_type": "markdown",
   "id": "0f15b303-bbaa-4af7-82f7-c5c06d991ea7",
   "metadata": {},
   "source": [
    "Q.4"
   ]
  },
  {
   "cell_type": "markdown",
   "id": "b2f28386-f98f-4a83-8611-04c24a702a6c",
   "metadata": {},
   "source": [
    "Ans>    Getters and setters are methods in object-oriented programming that allow you to control access to the \n",
    "        attributes of an object. A getter method is used to retrieve the value of an attribute, while a setter \n",
    "        method is used to set the value of an attribute.'''"
   ]
  },
  {
   "cell_type": "code",
   "execution_count": 8,
   "id": "575951a8-f4c5-4838-9853-d260d6b8517f",
   "metadata": {},
   "outputs": [
    {
     "name": "stdout",
     "output_type": "stream",
     "text": [
      "John Doe\n",
      "Jane Doe\n",
      "30\n",
      "35\n"
     ]
    }
   ],
   "source": [
    "class Person:\n",
    "    def __init__(self, name, age):\n",
    "        self._name = name\n",
    "        self._age = age\n",
    "\n",
    "    @property\n",
    "    def name(self):\n",
    "        return self._name\n",
    "\n",
    "    @name.setter\n",
    "    def name(self, value):\n",
    "        if not isinstance(value, str):\n",
    "            raise TypeError(\"Name must be a string.\")\n",
    "        self._name = value\n",
    "\n",
    "    @property\n",
    "    def age(self):\n",
    "        return self._age\n",
    "\n",
    "    @age.setter\n",
    "    def age(self, value):\n",
    "        if not isinstance(value, int):\n",
    "            raise TypeError(\"Age must be an integer.\")\n",
    "        self._age = value\n",
    "\n",
    "person = Person(\"John Doe\", 30)\n",
    "print(person.name)  # \"John Doe\"\n",
    "person.name = \"Jane Doe\"\n",
    "print(person.name)  # \"Jane Doe\"\n",
    "print(person.age)  # 30\n",
    "person.age = 35\n",
    "print(person.age)  # 35"
   ]
  },
  {
   "cell_type": "code",
   "execution_count": null,
   "id": "ecbca4d6-398e-4a3a-9f0c-3349308065b7",
   "metadata": {},
   "outputs": [],
   "source": []
  }
 ],
 "metadata": {
  "kernelspec": {
   "display_name": "Python 3 (ipykernel)",
   "language": "python",
   "name": "python3"
  },
  "language_info": {
   "codemirror_mode": {
    "name": "ipython",
    "version": 3
   },
   "file_extension": ".py",
   "mimetype": "text/x-python",
   "name": "python",
   "nbconvert_exporter": "python",
   "pygments_lexer": "ipython3",
   "version": "3.10.8"
  }
 },
 "nbformat": 4,
 "nbformat_minor": 5
}
